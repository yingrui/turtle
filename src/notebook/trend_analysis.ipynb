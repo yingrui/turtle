{
 "cells": [
  {
   "cell_type": "code",
   "execution_count": null,
   "id": "4f9cc0da-c964-46ad-9966-660dc8823135",
   "metadata": {},
   "outputs": [],
   "source": [
    "import sys\n",
    "import numpy as np\n",
    "import pandas as pd\n",
    "import matplotlib.pyplot as plt\n",
    "\n",
    "from datetime import date\n",
    "\n",
    "sys.path.append('../')\n",
    "\n",
    "from engine.StockTradeDataEngine import StockTradeDataEngine\n",
    "from engine.StockRepository import StockRepository\n",
    "from util.chart_methods import draw_line_chart_with_moving_average"
   ]
  },
  {
   "cell_type": "code",
   "execution_count": null,
   "id": "1257826d-efe4-485d-bca7-8f111cc08ca5",
   "metadata": {},
   "outputs": [],
   "source": [
    "data_engine = StockTradeDataEngine()\n",
    "stock_repo = StockRepository()"
   ]
  },
  {
   "cell_type": "code",
   "execution_count": null,
   "id": "262013e6-76bb-4c43-9290-e545fe014944",
   "metadata": {},
   "outputs": [],
   "source": [
    "name = '赛力斯'\n",
    "stock = stock_repo.find_stock(name)\n",
    "print(stock)"
   ]
  },
  {
   "cell_type": "code",
   "execution_count": null,
   "id": "bc3c9889-defe-4787-9692-6615ac8316f6",
   "metadata": {},
   "outputs": [],
   "source": [
    "df = data_engine.get_trade_data_by_code(stock.ts_code, start_date=date(2020, 1, 1), end_date=date.today())"
   ]
  },
  {
   "cell_type": "code",
   "execution_count": null,
   "id": "20c9cc5e-8e11-428c-b98f-467f73d2b94d",
   "metadata": {},
   "outputs": [],
   "source": [
    "draw_line_chart_with_moving_average(x_series=df.trade_date, y_series=df.qfq, sma_days_list=[20,70,150], title='Double Moving Average System')"
   ]
  },
  {
   "cell_type": "code",
   "execution_count": null,
   "id": "5d25f304-9af2-4c30-a439-7ed38468823d",
   "metadata": {},
   "outputs": [],
   "source": [
    "from statsmodels.tsa.stattools import adfuller\n",
    "from statsmodels.tsa.arima.model import ARIMA\n",
    "from statsmodels.graphics.tsaplots import plot_acf\n",
    "from statsmodels.graphics.tsaplots import plot_pacf"
   ]
  },
  {
   "cell_type": "code",
   "execution_count": null,
   "id": "477b764b-913e-45f3-94da-cc1e4d17d895",
   "metadata": {},
   "outputs": [],
   "source": [
    "result = adfuller(df.qfq)\n",
    "print('p-value: {0}'.format(result[1]))\n",
    "result = adfuller(df.qfq.diff(1).tail(-1))\n",
    "print('p-value: {0}'.format(result[1]))"
   ]
  },
  {
   "cell_type": "code",
   "execution_count": null,
   "id": "f65a6610-de6c-4b14-af7f-c393c80b874e",
   "metadata": {},
   "outputs": [],
   "source": [
    "plot_pacf(df.qfq, lags = 15, method = \"ols\")\n",
    "plt.show()"
   ]
  },
  {
   "cell_type": "code",
   "execution_count": null,
   "id": "89dfa8ec-5652-4cdb-91bf-1e34b3ff4cec",
   "metadata": {},
   "outputs": [],
   "source": [
    "plot_acf(df.qfq, lags = 15)\n",
    "plt.show()"
   ]
  },
  {
   "cell_type": "code",
   "execution_count": null,
   "id": "225f07ca-c6a9-41c2-b072-cb136a74cf83",
   "metadata": {},
   "outputs": [],
   "source": [
    "arima_model = ARIMA(df.qfq, order=(1,1,1))\n",
    "model = arima_model.fit()\n",
    "print(model.summary())"
   ]
  },
  {
   "cell_type": "code",
   "execution_count": null,
   "id": "599e81d3-634a-4bbb-95b3-3617ad4ec248",
   "metadata": {},
   "outputs": [],
   "source": [
    "model.plot_diagnostics()\n",
    "plt.show()"
   ]
  },
  {
   "cell_type": "code",
   "execution_count": null,
   "id": "c0889621-2d63-45f6-bd36-356e939e7f57",
   "metadata": {},
   "outputs": [],
   "source": [
    "f = plt.figure()\n",
    "f.set_figwidth(20)\n",
    "plt.plot(df.trade_date, df.qfq, label='time series')\n",
    "plt.plot(df.trade_date, model.predict(dynamic=False), label='predict')\n",
    "plt.show()"
   ]
  },
  {
   "cell_type": "code",
   "execution_count": null,
   "id": "19b8d83d-7742-4e14-8021-836c500332da",
   "metadata": {},
   "outputs": [],
   "source": [
    "model.forecast(steps=10)"
   ]
  }
 ],
 "metadata": {
  "kernelspec": {
   "display_name": "Python 3 (ipykernel)",
   "language": "python",
   "name": "python3"
  },
  "language_info": {
   "codemirror_mode": {
    "name": "ipython",
    "version": 3
   },
   "file_extension": ".py",
   "mimetype": "text/x-python",
   "name": "python",
   "nbconvert_exporter": "python",
   "pygments_lexer": "ipython3",
   "version": "3.8.16"
  }
 },
 "nbformat": 4,
 "nbformat_minor": 5
}
