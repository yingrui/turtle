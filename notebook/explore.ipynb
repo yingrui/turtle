{
 "cells": [
  {
   "cell_type": "code",
   "execution_count": null,
   "id": "9a252405-ce66-4610-beee-0fd40ca54c4f",
   "metadata": {},
   "outputs": [],
   "source": [
    "import sys\n",
    "import numpy as np\n",
    "import pandas as pd\n",
    "import matplotlib.pyplot as plt\n",
    "\n",
    "from datetime import date\n",
    "\n",
    "sys.path.append('../')\n",
    "\n",
    "from engine.StockTradeDataEngine import StockTradeDataEngine\n",
    "from util.chart_methods import draw_line_chart_with_moving_average\n",
    "from util.chart_methods import draw_time_series_with_mean_and_std\n",
    "from util.chart_methods import draw_line_chart_with_atr\n",
    "from util.chart_methods import draw_line_chart_with_bolling"
   ]
  },
  {
   "cell_type": "code",
   "execution_count": null,
   "id": "a7d318d8-e932-4ffa-8b2d-05d0f33f8990",
   "metadata": {},
   "outputs": [],
   "source": [
    "data_engine = StockTradeDataEngine()"
   ]
  },
  {
   "cell_type": "code",
   "execution_count": null,
   "id": "97c2654c-494d-4530-aed3-8fc91281a6b2",
   "metadata": {},
   "outputs": [],
   "source": [
    "df = data_engine.get_trade_data_by_code('600519.SH', date(2019, 1, 1), date.today())"
   ]
  },
  {
   "cell_type": "code",
   "execution_count": null,
   "id": "070bc8b3-48ec-47dc-8fe0-e8019141a6a4",
   "metadata": {},
   "outputs": [],
   "source": [
    "draw_line_chart_with_moving_average(x_series=df.trade_date, y_series=df.close, sma_days_list=[20,70,150], title='Double Moving Average System')"
   ]
  },
  {
   "cell_type": "code",
   "execution_count": null,
   "id": "7ae616be-e177-48f5-86a0-a7fa28281014",
   "metadata": {},
   "outputs": [],
   "source": [
    "draw_line_chart_with_atr(trade_date=df.trade_date, close_price=df.close, high_price=df.high, low_price=df.low, ma_days=250, up=7, down=3, title='ATR System')"
   ]
  },
  {
   "cell_type": "code",
   "execution_count": null,
   "id": "0703e687-8c7e-4e65-9ed5-72989277b4d8",
   "metadata": {},
   "outputs": [],
   "source": [
    "draw_line_chart_with_bolling(df.trade_date, df.close, ma_days=100, title='Rolling System')"
   ]
  },
  {
   "cell_type": "code",
   "execution_count": null,
   "id": "18346e72-74ff-4609-9877-1534cdd76fde",
   "metadata": {},
   "outputs": [],
   "source": [
    "draw_time_series_with_mean_and_std(df.trade_date, df.pct_chg, title='Percentage change is a stable random variable', xlabel='date', ylabel='percentage changes')"
   ]
  }
 ],
 "metadata": {
  "kernelspec": {
   "display_name": "Python 3 (ipykernel)",
   "language": "python",
   "name": "python3"
  },
  "language_info": {
   "codemirror_mode": {
    "name": "ipython",
    "version": 3
   },
   "file_extension": ".py",
   "mimetype": "text/x-python",
   "name": "python",
   "nbconvert_exporter": "python",
   "pygments_lexer": "ipython3",
   "version": "3.8.16"
  }
 },
 "nbformat": 4,
 "nbformat_minor": 5
}
