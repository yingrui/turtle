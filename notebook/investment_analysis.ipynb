{
 "cells": [
  {
   "cell_type": "code",
   "execution_count": null,
   "id": "27835ae4-0526-4d8d-af14-63b2e6070499",
   "metadata": {},
   "outputs": [],
   "source": [
    "import sys\n",
    "import numpy as np\n",
    "import pandas as pd\n",
    "import matplotlib.pyplot as plt\n",
    "\n",
    "from datetime import date\n",
    "\n",
    "sys.path.append('../')\n",
    "\n",
    "from util.chart_methods import draw_investment_log\n",
    "from util.math_methods import round_down"
   ]
  },
  {
   "cell_type": "code",
   "execution_count": null,
   "id": "0e23348e-aa5c-4131-b02a-f057942f389c",
   "metadata": {},
   "outputs": [],
   "source": [
    "policy_id = 2\n",
    "portfolio_name = 'test'\n",
    "df = pd.read_csv('../logs/{0}-{1}.log'.format(portfolio_name, policy_id), parse_dates=['date'], date_parser=pd.to_datetime)"
   ]
  },
  {
   "cell_type": "code",
   "execution_count": null,
   "id": "9977db09-5765-435c-b703-3752aa302577",
   "metadata": {},
   "outputs": [],
   "source": [
    "draw_investment_log(df, xlabel='Trade Date', ylabel='Asset (unit: 10K)', title='Assets Changes Table')"
   ]
  },
  {
   "cell_type": "code",
   "execution_count": null,
   "id": "cdf69760-2c6b-444d-a85e-6a6f9abc166e",
   "metadata": {},
   "outputs": [],
   "source": [
    "start_date = date.fromtimestamp(df.date.values[0].astype(int) / 1e9)\n",
    "end_date = date.fromtimestamp(df.date.values[-1].astype(int) / 1e9)\n",
    "years = end_date.year - start_date.year if end_date.year > start_date.year else 1\n",
    "initial_total = df.total.values[0]\n",
    "total = df.total.values[-1]\n",
    "cagr = round_down((total / initial_total) ** (1 / years) - 1)\n",
    "print('CAGR: {0}'.format(cagr))"
   ]
  },
  {
   "cell_type": "code",
   "execution_count": null,
   "id": "1d58db6a-3fb5-4b32-af0b-a63e6c9b00cb",
   "metadata": {},
   "outputs": [],
   "source": [
    "df_trade = pd.read_csv('../logs/trade_{0}-{1}.log'.format(portfolio_name, policy_id), parse_dates=['date','hold_date'], date_parser=pd.to_datetime)\n",
    "df_trade['status'] = df_trade['benefit'].apply(lambda benefit: 'win' if benefit > 0 else 'loss')"
   ]
  },
  {
   "cell_type": "code",
   "execution_count": null,
   "id": "428c0f30-695d-4162-8fba-ca94fe57f046",
   "metadata": {},
   "outputs": [],
   "source": [
    "df_trade[['ts_code','status']].groupby(['status']).count().rename(columns={\"ts_code\": \"count\"})"
   ]
  },
  {
   "cell_type": "code",
   "execution_count": null,
   "id": "a0ce7c3f-7fa9-4678-9713-b59943d67b97",
   "metadata": {},
   "outputs": [],
   "source": [
    "df_benefit = df_trade[['ts_code', 'benefit']].groupby(['ts_code']).sum(['benefit']).rename(columns={\"benefit\": \"sum\"})\n",
    "df_win = df_trade[df_trade['status']=='win']\n",
    "df_win_sum = df_win[['ts_code', 'benefit']].groupby(['ts_code']).sum(['benefit']).rename(columns={\"benefit\": \"win\"})\n",
    "df_win_count = df_win[['ts_code', 'benefit']].groupby(['ts_code']).count().rename(columns={\"benefit\": \"win_count\"})\n",
    "df_loss = df_trade[df_trade['status']=='loss']\n",
    "df_loss_sum = df_loss[['ts_code', 'benefit']].groupby(['ts_code']).sum(['benefit']).rename(columns={\"benefit\": \"loss\"})\n",
    "df_loss_count = df_loss[['ts_code', 'benefit']].groupby(['ts_code']).count().rename(columns={\"benefit\": \"loss_count\"})"
   ]
  },
  {
   "cell_type": "code",
   "execution_count": null,
   "id": "22352840-cf67-42b0-b676-63472679d206",
   "metadata": {},
   "outputs": [],
   "source": [
    "df_benefit.join(df_win_sum).join(df_win_count).join(df_loss_sum).join(df_loss_count).sort_values(by=['sum'], ascending=False)"
   ]
  },
  {
   "cell_type": "code",
   "execution_count": null,
   "id": "9103f556-3fc6-44c5-b59f-42726b22031c",
   "metadata": {},
   "outputs": [],
   "source": [
    "df_trade.tail(60)"
   ]
  }
 ],
 "metadata": {
  "kernelspec": {
   "display_name": "Python 3 (ipykernel)",
   "language": "python",
   "name": "python3"
  },
  "language_info": {
   "codemirror_mode": {
    "name": "ipython",
    "version": 3
   },
   "file_extension": ".py",
   "mimetype": "text/x-python",
   "name": "python",
   "nbconvert_exporter": "python",
   "pygments_lexer": "ipython3",
   "version": "3.8.16"
  }
 },
 "nbformat": 4,
 "nbformat_minor": 5
}
