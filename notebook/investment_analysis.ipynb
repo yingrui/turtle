{
 "cells": [
  {
   "cell_type": "code",
   "execution_count": null,
   "id": "27835ae4-0526-4d8d-af14-63b2e6070499",
   "metadata": {},
   "outputs": [],
   "source": [
    "import sys\n",
    "import numpy as np\n",
    "import pandas as pd\n",
    "import matplotlib.pyplot as plt\n",
    "\n",
    "from datetime import date\n",
    "\n",
    "sys.path.append('../')\n",
    "\n",
    "from util.chart_methods import draw_investment_log\n",
    "from util.math_methods import round_down"
   ]
  },
  {
   "cell_type": "code",
   "execution_count": null,
   "id": "0e23348e-aa5c-4131-b02a-f057942f389c",
   "metadata": {},
   "outputs": [],
   "source": [
    "df = pd.read_csv('../simulation/test.log', parse_dates=['date'], date_parser=pd.to_datetime)\n",
    "df.head()"
   ]
  },
  {
   "cell_type": "code",
   "execution_count": null,
   "id": "9977db09-5765-435c-b703-3752aa302577",
   "metadata": {},
   "outputs": [],
   "source": [
    "draw_investment_log(df)"
   ]
  },
  {
   "cell_type": "code",
   "execution_count": null,
   "id": "cdf69760-2c6b-444d-a85e-6a6f9abc166e",
   "metadata": {},
   "outputs": [],
   "source": [
    "start_date = date.fromtimestamp(df.date.values[0].astype(int) / 1e9)\n",
    "end_date = date.fromtimestamp(df.date.values[-1].astype(int) / 1e9)\n",
    "years = end_date.year - start_date.year if end_date.year > start_date.year else 1\n",
    "initial_total = df.total.values[0]\n",
    "total = df.total.values[-1]\n",
    "cagr = round_down((total / initial_total) ** (1 / years) - 1)\n",
    "print('CAGR: {0}'.format(cagr))"
   ]
  }
 ],
 "metadata": {
  "kernelspec": {
   "display_name": "Python 3 (ipykernel)",
   "language": "python",
   "name": "python3"
  },
  "language_info": {
   "codemirror_mode": {
    "name": "ipython",
    "version": 3
   },
   "file_extension": ".py",
   "mimetype": "text/x-python",
   "name": "python",
   "nbconvert_exporter": "python",
   "pygments_lexer": "ipython3",
   "version": "3.8.16"
  }
 },
 "nbformat": 4,
 "nbformat_minor": 5
}
